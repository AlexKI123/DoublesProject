{
 "cells": [
  {
   "cell_type": "code",
   "execution_count": 6,
   "metadata": {},
   "outputs": [],
   "source": [
    "import numpy as np\n",
    "import matplotlib.pyplot as plt\n",
    "import glob\n",
    "from scipy.special import lambertw\n",
    "import matplotlib.ticker as ticker\n",
    "import re\n",
    "\n",
    "\n",
    "def π(s):\n",
    "    # Computes the fixation probability  \n",
    "    out = 1.0-np.exp(-2*s)\n",
    "    out[out<0] = 0\n",
    "    return out\n",
    "\n",
    "def WM_model(fs, fd):\n",
    "    # Computes the WM result  \n",
    "    fs = fs - 1   \n",
    "    fd = fd - 1\n",
    "    fs = fs[fs > 0]\n",
    "    fd = fd[fd > 0]\n",
    "    \n",
    "    Ps = mus*π(fs)\n",
    "    Pd = mud*π(fd)\n",
    "    Z = Pd.sum() + Ps.sum()\n",
    "    return Pd.sum()/Z\n",
    "\n",
    "def CI_model(fs,fd,MS):\n",
    "    # Computes the CI result  \n",
    "    out = []\n",
    "    fs = fs - 1   \n",
    "    fd = fd - 1\n",
    "    \n",
    "    fs = fs[fs > 0]\n",
    "    fd = fd[fd > 0]\n",
    "    \n",
    "    ns = len(fs)\n",
    "    nd = len(fd)\n",
    "    for ms in MS:\n",
    "        N = int(ms/U)\n",
    "        Λs = N*np.log(N)/np.log(1+fs)\n",
    "        Λd = N*np.log(N)/np.log(1+fd)\n",
    "        \n",
    "        for i in range(ns):\n",
    "            Λs[i] *= (mus*np.sum(π(fs[fs>fs[i]])) + mud*np.sum(π(fd[fd>fs[i]])))\n",
    "        for i in range(nd):\n",
    "            Λd[i] *= (mus*np.sum(π(fs[fs>fd[i]])) + mud*np.sum(π(fd[fd>fd[i]])))\n",
    "            \n",
    "        Ps = π(fs)*np.exp(-Λs)*mus\n",
    "        Pd = π(fd)*np.exp(-Λd)*mud\n",
    "        \n",
    "        Z = Ps.sum()+Pd.sum()      \n",
    "        Pd /= Z\n",
    "        out.append(Pd.sum())\n",
    "\n",
    "    return out"
   ]
  },
  {
   "cell_type": "markdown",
   "metadata": {},
   "source": [
    "TEM1 Data"
   ]
  },
  {
   "cell_type": "code",
   "execution_count": 7,
   "metadata": {},
   "outputs": [
    {
     "name": "stdout",
     "output_type": "stream",
     "text": [
      "ns 1746\n",
      "nd 3025\n"
     ]
    }
   ],
   "source": [
    "# Load TEM1 data\n",
    "\n",
    "α = 4*10**(-3)\n",
    "folder = 'dataEmpirical/data_TEM1_4_10-3'   \n",
    "\n",
    "ris, ris0, fits = [], [], []\n",
    "for s in sorted(glob.glob(folder+'/*ris.npy')):\n",
    "    result = re.search(''+folder+'/(.*)_', s)\n",
    "    seed = result.group(1)\n",
    "    ris.append(np.load(folder+\"/\"+seed+\"_ris.npy\"))\n",
    "    ris0.append(np.load(folder+\"/\"+seed+\"_ris0.npy\"))\n",
    "    fits.append(np.load(folder+\"/\"+seed+\"_fit.npy\"))\n",
    "x = np.load(glob.glob(folder+'/*MS.npy')[0])\n",
    "ris = np.array(ris)\n",
    "ris0 = np.array(ris0)\n",
    "fits = np.array(fits)\n",
    "\n",
    "\n",
    "fs = np.load(\"dataEmpirical/singles_TEM1.npy\")\n",
    "fd = np.load(\"dataEmpirical/doubles_TEM1.npy\")\n",
    "ns = len(fs)\n",
    "nd = len(fd)\n",
    "print(\"ns\", ns)\n",
    "print(\"nd\", nd)\n",
    "mus = 10**(-10)*3*0.76/5.80\n",
    "mud = 10**(-10)*α*3*0.99*0.52/9.63\n",
    "\n",
    "U = ns*mus + nd*mud\n",
    "fractionAAlevel = mud*nd/(mud*nd+mus*ns)\n",
    "fractionAAlevelBeneficial = mud*len(fd[fd>1])/(mud*len(fd[fd>1])+mus*len(fs[fs>1]))\n",
    "\n",
    "Ubs = mus*len(fs[fs>1])\n",
    "\n",
    "ΔW_SD = []\n",
    "ΔW_S = []\n",
    "\n",
    "for j in range(ris.shape[1]):\n",
    "    R = ris[:,j,:]\n",
    "    ΔW_SD.append((fits * R).sum(axis=1).mean() - 1)\n",
    "    \n",
    "    R = ris0[:,j,:]\n",
    "    ΔW_S.append((fits[:,:ns+1] * R).sum(axis=1).mean() - 1)\n",
    "    \n",
    "ΔW_SD_TEM1 = np.array(ΔW_SD)\n",
    "ΔW_S_TEM1 = np.array(ΔW_S)\n",
    "\n",
    "xshift_TEM1=(len(fs[fs>1])*mus+len(fd[fd>1])*mud)/(len(fs)*mus+len(fd)*mud)\n"
   ]
  },
  {
   "cell_type": "code",
   "execution_count": 12,
   "metadata": {},
   "outputs": [
    {
     "data": {
      "image/png": "[encoded data removed]",
      "text/plain": [
       "<Figure size 280x240 with 1 Axes>"
      ]
     },
     "metadata": {
      "needs_background": "light"
     },
     "output_type": "display_data"
    }
   ],
   "source": [
    "#Plot TEM1 results with alpha=4*10-3 \n",
    "\n",
    "plt.figure(figsize=(3.5, 3), dpi=80)\n",
    "\n",
    "plt.xscale(\"log\")\n",
    "plt.yscale(\"log\")\n",
    "plt.ylim(9*10**(-4),10**(-1))\n",
    "plt.xlim(10**(-3.),10**(1))\n",
    "\n",
    "\n",
    "plt.plot(xshift_TEM1*x,ris[:,:,ns+1:].sum(axis=2).mean(axis=0),color=\"black\",linewidth=3, label=\"$F_D$\")\n",
    "plt.plot(xshift_TEM1*x,CI_model(fs,fd,x),linewidth = 3, color = \"#639C75\", label=\"$F_D^{CI}$\")\n",
    "plt.axhline([WM_model(fs,fd)],color=\"#9C638A\",linewidth=3, label=\"$F_D^{WM}$\")\n",
    "\n",
    "\n",
    "epsilon=1\n",
    "plt.axhline([fractionAAlevelBeneficial], linestyle=\"--\", color=\"black\",linewidth=2, label=\"$f_b$\")\n",
    "plt.axvline([np.real(epsilon/(4*lambertw(epsilon/(4*Ubs))))], linestyle=(0, (3, 7)), color=\"black\",linewidth=2.5)\n",
    "plt.axvline([np.real(epsilon*ns/(4*lambertw(epsilon/(4*mus))))], linestyle=(0, (1, 5)), color=\"black\",linewidth=2.5)\n",
    "\n",
    "plt.xlabel(\"Benefical mutation supply $NU_b$\", fontsize = 11)\n",
    "plt.ylabel(r\"$F_{D}$\", fontsize = 12)\n",
    "plt.title(\"TEM-1\", fontsize = 13)\n",
    "\n",
    "\n",
    "# Move the legend outside of the plot\n",
    "plt.legend(fontsize=12, bbox_to_anchor=(1.05, 0.5), loc='center left')\n",
    "\n",
    "\n",
    "plt.savefig(\"plotTEM1.pdf\", bbox_inches = \"tight\")"
   ]
  },
  {
   "cell_type": "markdown",
   "metadata": {},
   "source": [
    "P53"
   ]
  },
  {
   "cell_type": "code",
   "execution_count": 13,
   "metadata": {},
   "outputs": [
    {
     "name": "stdout",
     "output_type": "stream",
     "text": [
      "ns 2437\n",
      "nd 3419\n",
      "(1000, 40, 5857)\n"
     ]
    }
   ],
   "source": [
    "# Load P53 data\n",
    "\n",
    "α = 2*10**(-3)\n",
    "folder = 'dataEmpirical/dataP53_2_10-3'\n",
    "\n",
    "\n",
    "ris = []\n",
    "ris0 = []\n",
    "fits = []\n",
    "for s in sorted(glob.glob(folder+'/*ris.npy')):\n",
    "    result = re.search(''+folder+'/(.*)_', s)\n",
    "    seed = result.group(1)\n",
    "    ris.append(np.load(folder+\"/\"+seed+\"_ris.npy\"))\n",
    "    ris0.append(np.load(folder+\"/\"+seed+\"_ris0.npy\"))\n",
    "    fits.append(np.load(folder+\"/\"+seed+\"_fit.npy\"))\n",
    "x = np.load(glob.glob(folder+'/*MS.npy')[0])\n",
    "ris = np.array(ris)\n",
    "ris0 = np.array(ris0)\n",
    "fits = np.array(fits)\n",
    "\n",
    "\n",
    "\n",
    "fs = np.load(\"dataEmpirical/singles_P53.npy\")\n",
    "fd = np.load(\"dataEmpirical/doubles_P53.npy\")\n",
    "\n",
    "ns = len(fs)\n",
    "nd = len(fd)\n",
    "print(\"ns\", ns)\n",
    "print(\"nd\", nd)\n",
    "mus = 10**(-10)*3*0.76/5.80\n",
    "mud = 10**(-10)*α*3*0.99*0.52/9.63\n",
    "\n",
    "U = ns*mus + nd*mud\n",
    "Ubs = mus*len(fs[fs>1])\n",
    "\n",
    "fractionAAlevel = mud*nd/(mud*nd+mus*ns)\n",
    "fractionAAlevelBeneficial = mud*len(fd[fd>1])/(mud*len(fd[fd>1])+mus*len(fs[fs>1]))\n",
    "\n",
    "ΔW_SD = []\n",
    "ΔW_S = []\n",
    "\n",
    "for j in range(ris.shape[1]):\n",
    "    R = ris[:,j,:]\n",
    "    ΔW_SD.append((fits * R).sum(axis=1).mean() - 1)\n",
    "    \n",
    "    R = ris0[:,j,:]\n",
    "    ΔW_S.append((fits[:,:ns+1] * R).sum(axis=1).mean() - 1)\n",
    "    \n",
    "ΔW_SD_P53 = np.array(ΔW_SD)\n",
    "ΔW_S_P53 = np.array(ΔW_S)\n",
    "\n",
    "xshift_P53=(len(fs[fs>1])*mus+len(fd[fd>1])*mud)/(len(fs)*mus+len(fd)*mud)\n",
    "\n",
    "print(ris.shape)"
   ]
  },
  {
   "cell_type": "code",
   "execution_count": 14,
   "metadata": {},
   "outputs": [
    {
     "name": "stdout",
     "output_type": "stream",
     "text": [
      "0.0015530000000000023\n",
      "0.0010532231264749176\n"
     ]
    },
    {
     "data": {
      "image/png": "[encoded data removed]",
      "text/plain": [
       "<Figure size 280x240 with 1 Axes>"
      ]
     },
     "metadata": {
      "needs_background": "light"
     },
     "output_type": "display_data"
    }
   ],
   "source": [
    "#Plot P53 results with alpha=2*10-3 \n",
    "\n",
    "plt.figure(figsize=(3.5, 3), dpi=80)\n",
    "\n",
    "plt.xscale(\"log\")\n",
    "plt.yscale(\"log\")\n",
    "\n",
    "plt.plot(xshift_P53 * x, ris[:, :, ns+1:].sum(axis=2).mean(axis=0), color=\"black\", linewidth=3, label=\"$F_D$\")\n",
    "plt.plot(xshift_P53 * x, CI_model(fs, fd, x), linewidth=3, color=\"#639C75\", label=\"$F_D^{CI}$\")\n",
    "print(ris[:, :, ns+1:].sum(axis=2).mean(axis=0)[0])\n",
    "\n",
    "plt.axhline([WM_model(fs, fd)], color=\"#9C638A\", linewidth=3, label=\"$F_D^{WM}$\")\n",
    "\n",
    "epsilon = 1\n",
    "plt.axhline(fractionAAlevelBeneficial, linestyle=\"--\", color=\"black\", linewidth=2, label=\"$f_b$\")\n",
    "print(fractionAAlevelBeneficial)\n",
    "\n",
    "# Adding an arrow mark as a y-tick to mark the \"fixed\" value\n",
    "fixed_value = 0.0028779\n",
    "y_ticks = list(plt.yticks()[0])\n",
    "y_ticks.append(fixed_value)\n",
    "\n",
    "# Format y-tick labels with LaTeX-style notation\n",
    "y_ticks_labels = [f\"$10^{{{int(np.log10(tick))}}}$\" if tick != fixed_value else '→' for tick in y_ticks]\n",
    "plt.yticks(y_ticks, y_ticks_labels)\n",
    "\n",
    "plt.axvline([np.real(epsilon/(4*lambertw(epsilon/(4*Ubs))))], linestyle=(0, (3, 7)), color=\"black\", linewidth=2.5)\n",
    "plt.axvline([np.real(epsilon*ns/(4*lambertw(epsilon/(4*mus/5.80))))], linestyle=(0, (1, 5)), color=\"black\", linewidth=2.5)\n",
    "\n",
    "\n",
    "# Setting the y-limits explicitly to ensure the range remains consistent\n",
    "plt.ylim(9*10**(-4), 1*10**(-1))\n",
    "plt.xlim(10**(-3.), 10**(1))\n",
    "\n",
    "# Annotate with \"fixed\" text to the left of the arrow\n",
    "plt.annotate(\"observed in\\n clinical data\", xy=(plt.xlim()[0], fixed_value), xytext=(plt.xlim()[0]*0.5, fixed_value), \n",
    "             textcoords='data', color=\"black\", va='center', ha='right', fontsize=11)\n",
    "\n",
    "# Assuming you have already set up your plot\n",
    "x_intersection = 0.2  # Determine the x-value of the intersection\n",
    "y_intersection = 0.0028779  # This is the fixed value\n",
    "plt.scatter(x_intersection, y_intersection, edgecolors='black', facecolors='none', s=50, linewidths=1.5, zorder=5)\n",
    "\n",
    "plt.axhline(y=y_intersection, color='black', linestyle=(0, (3, 5, 1, 5)), xmin=0.0001, xmax=0.55, linewidth=1)\n",
    "\n",
    "\n",
    "plt.ylabel(r\"$F_{D}$\", fontsize = 12)\n",
    "plt.xlabel(\"Beneficial mutation supply $NU_b$\", fontsize=11)\n",
    "plt.title(\"P53\", fontsize=13)\n",
    "\n",
    "# Move the legend outside of the plot\n",
    "plt.legend(fontsize=12, bbox_to_anchor=(1.05, 0.5), loc='center left')\n",
    "\n",
    "plt.savefig(\"plotP53_0002.pdf\", bbox_inches=\"tight\")\n",
    "plt.show()\n"
   ]
  },
  {
   "cell_type": "code",
   "execution_count": null,
   "metadata": {},
   "outputs": [],
   "source": []
  }
 ],
 "metadata": {
  "kernelspec": {
   "display_name": "Python 3",
   "language": "python",
   "name": "python3"
  },
  "language_info": {
   "codemirror_mode": {
    "name": "ipython",
    "version": 3
   },
   "file_extension": ".py",
   "mimetype": "text/x-python",
   "name": "python",
   "nbconvert_exporter": "python",
   "pygments_lexer": "ipython3",
   "version": "3.8.5"
  }
 },
 "nbformat": 4,
 "nbformat_minor": 5
}
