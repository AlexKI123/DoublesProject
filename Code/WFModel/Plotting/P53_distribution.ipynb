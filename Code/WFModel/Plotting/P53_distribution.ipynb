{
 "cells": [
  {
   "cell_type": "code",
   "execution_count": 1,
   "id": "dfb76b67-849a-42a3-938d-a06064d78228",
   "metadata": {},
   "outputs": [
    {
     "name": "stdout",
     "output_type": "stream",
     "text": [
      "Single mutations 2437\n",
      "Double mutations 3419\n",
      "Beneficial single mutations 1393\n",
      "Beneficial double mutations 1800\n",
      "0.825\n"
     ]
    },
    {
     "data": {
      "image/png": "[encoded data removed]",
      "text/plain": [
       "<Figure size 500x360 with 3 Axes>"
      ]
     },
     "metadata": {},
     "output_type": "display_data"
    }
   ],
   "source": [
    "import pandas as pd\n",
    "import seaborn as sns\n",
    "import matplotlib.pyplot as plt\n",
    "\n",
    "# Load the data\n",
    "data_path = \"../../../Data_P53/data_P53.txt\"\n",
    "# Update this to your actual file path\n",
    "data = pd.read_csv(data_path, sep=\",\")\n",
    "# Data cleaning and preparation\n",
    "data = data.dropna(subset=['mutation'])\n",
    "data['type'] = data['mutation'].replace({'tandem': 'double', 'single': 'single'})\n",
    "filtered_data = data[data['fitness'] > 1]\n",
    "\n",
    "print(\"Single mutations\", len(data[data['type'] == \"single\"]))\n",
    "print(\"Double mutations\", len(data[data['type'] == \"double\"]))\n",
    "\n",
    "print(\"Beneficial single mutations\", len(data[(data['type'] == \"single\") & (data['fitness'] > 1)]))\n",
    "print(\"Beneficial double mutations\", len(data[(data['type'] == \"double\") & (data['fitness'] > 1)]))\n",
    "\n",
    "# Create a new figure for the histogram without a title and grid\n",
    "#fig, ax_main = plt.subplots(figsize=(3.85, 2.77))\n",
    "fig, ax_main = plt.subplots(figsize=(5, 3.6))\n",
    "\n",
    "# Adjust subplots\n",
    "plt.subplots_adjust(\n",
    "    #left=0.165,  # Adjust if necessary\n",
    "    #bottom=0.15,  # Adjust if necessary, especially if the x-label is cut off\n",
    "    left=None,  # Adjust if necessary\n",
    "    bottom=0.12,  # Adjust if necessary, especially if the x-label is cut off\n",
    "    right=0.95,  # Adjust if necessary\n",
    "    top=0.95,  # Decrease this to reduce space at the top of the figure\n",
    "    wspace=None,  # Adjust the width of the space between subplots\n",
    "    hspace=None   # Adjust the height of the space between subplots\n",
    ")\n",
    "\n",
    "\n",
    "# Main histogram plot with visible axes\n",
    "sns.histplot(data=data, x=\"fitness\", hue=\"type\", bins=40, palette=[\"#62AAC5\", \"#DD903B\"],\n",
    "             log_scale=(False, True), hue_order=['single', 'double'], stat='probability', legend=True,\n",
    "             alpha=0.7, common_norm=False, ax=ax_main)\n",
    "\n",
    "# Adjust the legend position\n",
    "legend = ax_main.get_legend()\n",
    "legend.set_title(\"Mutation type\")\n",
    "legend.set_frame_on(True)\n",
    "legend.set_bbox_to_anchor((0.08, 0.65))  # Adjust x and y for precise positioning\n",
    "\n",
    "\n",
    "# Dynamically get the position of the histogram\n",
    "pos = ax_main.get_position()\n",
    "left, width = pos.x0, pos.width\n",
    "\n",
    "# Customization and cleaning\n",
    "ax_main.grid(False)  # Remove grid\n",
    "ax_main.set_ylim(2*10**(-4), 5)  # Custom y-axis range\n",
    "\n",
    "# Set tick size for x and y axis individually\n",
    "ax_main.tick_params(axis='x', labelsize=10)  # Set x-axis tick size\n",
    "ax_main.tick_params(axis='y', labelsize=10)  # Set y-axis tick size\n",
    "\n",
    "\n",
    "# Adding box plots\n",
    "def add_boxplot(ax, data, pos, height=0.07, title=\"\", y_title_offset=0.0, x_title_offset=1.0):\n",
    "    # pos is in the form [left, bottom, width, height]\n",
    "    ax_box = fig.add_axes([pos[0], pos[1], pos[2], height], frame_on=False)\n",
    "    sns.boxplot(data=data, x=\"fitness\", y=\"type\", palette=[\"#62AAC5\", \"#DD903B\"], order=['single', 'double'],\n",
    "                showmeans=False, meanprops={\"markerfacecolor\": \"black\", \"markeredgecolor\": \"black\"}, ax=ax_box)\n",
    "    ax_box.set(xlabel='', ylabel='', xticklabels=[], yticklabels=[])\n",
    "    ax_main.set_xlabel(\"Fitness\")\n",
    "    ax_main.set_ylabel('Frequency')\n",
    "    ax_main.yaxis.label.set_position((0, 0.4))  # Adjust the main y-axis label position\n",
    "    ax_box.xaxis.set_visible(False)\n",
    "    ax_box.yaxis.set_visible(False)\n",
    "    ax_box.set_xlim(ax.get_xlim())\n",
    "    ax_box.text(x_title_offset, 1 + y_title_offset, title, fontsize=10, transform=ax_box.transAxes, verticalalignment='bottom', horizontalalignment='right')\n",
    "\n",
    "# Adding box plots with adjusted titles\n",
    "add_boxplot(ax_main, data, pos=[left, 0.825, width], height=0.07, title=\"All data points\", y_title_offset=0., x_title_offset=0.76)\n",
    "add_boxplot(ax_main, filtered_data, pos=[left, 0.68, width], height=0.07, title=\"Fitness \\u2265 1\", y_title_offset=0., x_title_offset=0.84)\n",
    "\n",
    "print(width)\n",
    "\n",
    "# Save and show the plot\n",
    "plt.savefig(\"P53_Dist.pdf\", transparent=True)\n",
    "\n",
    "plt.show()\n"
   ]
  },
  {
   "cell_type": "code",
   "execution_count": 5,
   "id": "e8309131-e44e-4cfe-84ee-2f62e777d64f",
   "metadata": {},
   "outputs": [
    {
     "data": {
      "text/plain": [
       "144"
      ]
     },
     "execution_count": 5,
     "metadata": {},
     "output_type": "execute_result"
    }
   ],
   "source": [
    "# Load the data\n",
    "data_path = \"../../../Data_P53/data_P53.txt\"\n",
    "# Update this to your actual file path\n",
    "data = pd.read_csv(data_path, sep=\",\")\n",
    "# Data cleaning and preparation\n",
    "data = data.dropna(subset=['mutation'])\n",
    "\n",
    "# Find the fittest single mutation value\n",
    "fittest_single = data[data['mutation'] == 'single']['fitness'].max()\n",
    "\n",
    "# Count the number of tandem mutations with fitness greater than the fittest single mutation\n",
    "tandem_fitter_than_single_count = data[(data['mutation'] == 'tandem') & (data['fitness'] > fittest_single)].shape[0]\n",
    "\n",
    "tandem_fitter_than_single_count\n"
   ]
  },
  {
   "cell_type": "code",
   "execution_count": null,
   "id": "d3852ec4-b50d-4b89-9c87-5556fa7d19a3",
   "metadata": {},
   "outputs": [],
   "source": []
  }
 ],
 "metadata": {
  "kernelspec": {
   "display_name": "Python 3 (ipykernel)",
   "language": "python",
   "name": "python3"
  },
  "language_info": {
   "codemirror_mode": {
    "name": "ipython",
    "version": 3
   },
   "file_extension": ".py",
   "mimetype": "text/x-python",
   "name": "python",
   "nbconvert_exporter": "python",
   "pygments_lexer": "ipython3",
   "version": "3.8.18"
  }
 },
 "nbformat": 4,
 "nbformat_minor": 5
}
